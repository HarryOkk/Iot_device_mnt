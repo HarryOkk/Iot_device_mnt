{
 "cells": [
  {
   "cell_type": "code",
   "execution_count": 4,
   "metadata": {},
   "outputs": [],
   "source": [
    "import pandas as pd\n",
    "from remes_mysql.db_config import AliyunBizDb\n",
    "\n",
    "df = pd.read_excel(r'D:\\my_documents\\工作记录文件\\digtel\\云通话\\现场试点\\云通话待选项目.xlsx')\n",
    "df \n",
    "\n",
    "sql = \"\"\"\n",
    "select * from remes_db.license_cpd_elevator;\n",
    "\"\"\"\n",
    "# 获取数据库中的cpd_id\n",
    "df_result = AliyunBizDb().read_data(sql=sql)"
   ]
  },
  {
   "cell_type": "code",
   "execution_count": 40,
   "metadata": {},
   "outputs": [
    {
     "data": {
      "text/plain": [
       "False    4069\n",
       "Name: is_wirelesscall, dtype: int64"
      ]
     },
     "execution_count": 40,
     "metadata": {},
     "output_type": "execute_result"
    }
   ],
   "source": [
    "df['cpd_id'] = df['cpd_id'].str.strip()\n",
    "df_result['cpd_id'] = df_result['cpd_id'].str.strip()\n",
    "df['is_wirelesscall'] = df['cpd_id'].isin(df_result['cpd_id'])\n",
    "df['is_wirelesscall'].value_counts()\n",
    "# 查看比例"
   ]
  }
 ],
 "metadata": {
  "kernelspec": {
   "display_name": "OTA",
   "language": "python",
   "name": "python3"
  },
  "language_info": {
   "codemirror_mode": {
    "name": "ipython",
    "version": 3
   },
   "file_extension": ".py",
   "mimetype": "text/x-python",
   "name": "python",
   "nbconvert_exporter": "python",
   "pygments_lexer": "ipython3",
   "version": "3.10.11"
  }
 },
 "nbformat": 4,
 "nbformat_minor": 2
}
