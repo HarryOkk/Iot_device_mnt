{
 "cells": [
  {
   "cell_type": "code",
   "execution_count": 4,
   "metadata": {},
   "outputs": [
    {
     "name": "stdout",
     "output_type": "stream",
     "text": [
      "[{'DayUsageList': [{'Day': 1, 'Value': 0}, {'Day': 2, 'Value': 0}, {'Day': 3, 'Value': 14129}, {'Day': 4, 'Value': 0}, {'Day': 5, 'Value': 4927}, {'Day': 6, 'Value': 5797}, {'Day': 7, 'Value': 6482}, {'Day': 8, 'Value': 5555}, {'Day': 9, 'Value': 5766}, {'Day': 10, 'Value': 6349}, {'Day': 11, 'Value': 5165}, {'Day': 12, 'Value': 5187}, {'Day': 13, 'Value': 238540}, {'Day': 14, 'Value': 6317}, {'Day': 15, 'Value': 0}, {'Day': 16, 'Value': 0}, {'Day': 17, 'Value': 0}, {'Day': 18, 'Value': 0}, {'Day': 19, 'Value': 0}, {'Day': 20, 'Value': 0}, {'Day': 21, 'Value': 0}, {'Day': 22, 'Value': 0}, {'Day': 23, 'Value': 0}, {'Day': 24, 'Value': 0}, {'Day': 25, 'Value': 0}, {'Day': 26, 'Value': 0}, {'Day': 27, 'Value': 0}, {'Day': 28, 'Value': 0}, {'Day': 29, 'Value': 0}, {'Day': 30, 'Value': 0}], 'Month': 202406, 'CurValue': 304214}]\n",
      "ICCID：89860477102170159171\n",
      "DTU：54049218\n",
      "当前日期：2024-06-14\n",
      "MNT_BUID_NAME：鼎好大厦\n",
      "当月流量已使用：0.29012107849121094 GB\n",
      "本日流量已使用：6.1689453125 MB\n",
      "\n"
     ]
    }
   ],
   "source": [
    "import remes_aliyun_openapi.dyiotapi.query as IotCardTools\n",
    "import pandas as pd\n",
    "import datetime\n",
    "import requests\n",
    "import json\n",
    "from time import sleep\n",
    "def send_msg_sucess(msg):\n",
    "    url = 'https://oapi.dingtalk.com/robot/send?access_token=245dcf595bf6719a407f1fd196c316293c013f0c3d2a55414e6430c5e62c11e4'\n",
    "    headers = {'Content-Type': 'application/json;charset=utf-8'}\n",
    "    data = {\n",
    "        \"msgtype\": \"text\",\n",
    "        \"text\": {'content':msg},\n",
    "        \"at\": {\n",
    "            \"atMobiles\": ['19850826277'],\n",
    "            \"atUserIds\": [\"1fn-upw1a6cbc8\"],\n",
    "            \"isAtAll\": False  # 此处 为是否@所有人\n",
    "        }\n",
    "    }\n",
    "    r = requests.post(url, data=json.dumps(data), headers=headers)\n",
    "    return r.text\n",
    "\n",
    "df=pd.read_excel('info_list.xlsx')\n",
    "\n",
    "result=IotCardTools.query_card_history_flow_info(iccid='89860477102170159171',start_time='202406',end_time='202407')\n",
    "\n",
    "\n",
    "if result['body']['Success']:\n",
    "    print(result['body']['Data'])\n",
    "    d_flow_query_info = result['body']['Data'][0]\n",
    "    # 接口返回处理\n",
    "    l_msg_output = \"ICCID：\"+'89860477102170159171'+\"\\n\"\n",
    "    l_msg_output += \"DTU：\"+str(df['DTU'][0])+\"\\n\"\n",
    "    l_msg_output += \"当前日期：\"+datetime.date.today().strftime('%Y-%m-%d')+\"\\n\"\n",
    "    l_msg_output += \"MNT_BUID_NAME：\"+str(df['MNT_BUID_NAME'][0])+\"\\n\"\n",
    "    l_msg_output += \"当月流量已使用：\"+str(d_flow_query_info['CurValue']/(1024*1024))+\" GB\"+\"\\n\"\n",
    "    l_msg_output += \"本日流量已使用：\"+str(d_flow_query_info['DayUsageList'][datetime.date.today().day-1]['Value']/1024)+\" MB\"+\"\\n\"\n",
    "    print(l_msg_output)\n",
    "    # r = send_msg_sucess(l_msg_output)\n",
    "    sleep(3)\n",
    "else:\n",
    "    print(result['body']['Message'])\n",
    "    print(result['body']['Code'])\n",
    "    "
   ]
  },
  {
   "cell_type": "code",
   "execution_count": null,
   "metadata": {},
   "outputs": [],
   "source": []
  }
 ],
 "metadata": {
  "kernelspec": {
   "display_name": "OTA",
   "language": "python",
   "name": "python3"
  },
  "language_info": {
   "codemirror_mode": {
    "name": "ipython",
    "version": 3
   },
   "file_extension": ".py",
   "mimetype": "text/x-python",
   "name": "python",
   "nbconvert_exporter": "python",
   "pygments_lexer": "ipython3",
   "version": "3.10.11"
  }
 },
 "nbformat": 4,
 "nbformat_minor": 2
}
